{
  "nbformat": 4,
  "nbformat_minor": 0,
  "metadata": {
    "colab": {
      "provenance": [],
      "gpuType": "T4"
    },
    "kernelspec": {
      "name": "python3",
      "display_name": "Python 3"
    },
    "language_info": {
      "name": "python"
    },
    "accelerator": "GPU"
  },
  "cells": [
    {
      "cell_type": "markdown",
      "source": [
        "This notebook goes through the following with TensorFlow:\n",
        "\n",
        "- build a transfer learning feature extraction model using TensorFlow Hub\n",
        "- use TensorBoard callback to track and compare model training results"
      ],
      "metadata": {
        "id": "gQc2grv2S2ZE"
      }
    },
    {
      "cell_type": "code",
      "execution_count": null,
      "metadata": {
        "id": "sGQYB29etPrC",
        "colab": {
          "base_uri": "https://localhost:8080/"
        },
        "outputId": "4515b39b-0642-4a90-f138-a003ecf5a46a"
      },
      "outputs": [
        {
          "output_type": "stream",
          "name": "stdout",
          "text": [
            "Notebook last run (end-to-end): 2024-01-04 02:29:49.917724\n"
          ]
        }
      ],
      "source": [
        "# Add timestamp\n",
        "import datetime\n",
        "print(f\"Notebook last run (end-to-end): {datetime.datetime.now()}\")"
      ]
    },
    {
      "cell_type": "code",
      "source": [
        "# Check if we're using GPU\n",
        "!nvidia-smi"
      ],
      "metadata": {
        "colab": {
          "base_uri": "https://localhost:8080/"
        },
        "id": "JNXjUn6nTL63",
        "outputId": "51aa6a33-c417-454f-ca4b-dd871608adc7"
      },
      "execution_count": null,
      "outputs": [
        {
          "output_type": "stream",
          "name": "stdout",
          "text": [
            "Thu Jan  4 02:29:45 2024       \n",
            "+---------------------------------------------------------------------------------------+\n",
            "| NVIDIA-SMI 535.104.05             Driver Version: 535.104.05   CUDA Version: 12.2     |\n",
            "|-----------------------------------------+----------------------+----------------------+\n",
            "| GPU  Name                 Persistence-M | Bus-Id        Disp.A | Volatile Uncorr. ECC |\n",
            "| Fan  Temp   Perf          Pwr:Usage/Cap |         Memory-Usage | GPU-Util  Compute M. |\n",
            "|                                         |                      |               MIG M. |\n",
            "|=========================================+======================+======================|\n",
            "|   0  Tesla T4                       Off | 00000000:00:04.0 Off |                    0 |\n",
            "| N/A   54C    P8              10W /  70W |      0MiB / 15360MiB |      0%      Default |\n",
            "|                                         |                      |                  N/A |\n",
            "+-----------------------------------------+----------------------+----------------------+\n",
            "                                                                                         \n",
            "+---------------------------------------------------------------------------------------+\n",
            "| Processes:                                                                            |\n",
            "|  GPU   GI   CI        PID   Type   Process name                            GPU Memory |\n",
            "|        ID   ID                                                             Usage      |\n",
            "|=======================================================================================|\n",
            "|  No running processes found                                                           |\n",
            "+---------------------------------------------------------------------------------------+\n"
          ]
        }
      ]
    },
    {
      "cell_type": "markdown",
      "source": [
        "## download data (10% of the food vision data)"
      ],
      "metadata": {
        "id": "DCkMM9N5WbiR"
      }
    },
    {
      "cell_type": "code",
      "source": [
        "import zipfile\n",
        "\n",
        "# Download data\n",
        "!wget https://storage.googleapis.com/ztm_tf_course/food_vision/10_food_classes_10_percent.zip\n",
        "# Unzip data\n",
        "zip_data = zipfile.ZipFile(\"10_food_classes_10_percent.zip\")\n",
        "zip_data.extractall()\n",
        "zip_data.close()"
      ],
      "metadata": {
        "colab": {
          "base_uri": "https://localhost:8080/"
        },
        "id": "TlUgZMBlTje0",
        "outputId": "ce85f7fc-1ef4-4ec4-c64f-a949e251a2a3"
      },
      "execution_count": null,
      "outputs": [
        {
          "output_type": "stream",
          "name": "stdout",
          "text": [
            "--2024-01-04 02:32:25--  https://storage.googleapis.com/ztm_tf_course/food_vision/10_food_classes_10_percent.zip\n",
            "Resolving storage.googleapis.com (storage.googleapis.com)... 108.177.96.207, 108.177.119.207, 108.177.127.207, ...\n",
            "Connecting to storage.googleapis.com (storage.googleapis.com)|108.177.96.207|:443... connected.\n",
            "HTTP request sent, awaiting response... 200 OK\n",
            "Length: 168546183 (161M) [application/zip]\n",
            "Saving to: ‘10_food_classes_10_percent.zip’\n",
            "\n",
            "10_food_classes_10_ 100%[===================>] 160.74M  42.7MB/s    in 4.4s    \n",
            "\n",
            "2024-01-04 02:32:30 (36.7 MB/s) - ‘10_food_classes_10_percent.zip’ saved [168546183/168546183]\n",
            "\n"
          ]
        }
      ]
    },
    {
      "cell_type": "markdown",
      "source": [
        "## Check data"
      ],
      "metadata": {
        "id": "8CzMzc0LWeTH"
      }
    },
    {
      "cell_type": "code",
      "source": [
        "import os\n",
        "\n",
        "for root, dirs, files in os.walk(\"10_food_classes_10_percent\"):\n",
        "  print(f\"There are {len(dirs)} directories and {len(files)} images under '{root}'.\")"
      ],
      "metadata": {
        "colab": {
          "base_uri": "https://localhost:8080/"
        },
        "id": "1AurmsdyULPd",
        "outputId": "c36355e4-e238-4f39-a415-4b63be37582a"
      },
      "execution_count": null,
      "outputs": [
        {
          "output_type": "stream",
          "name": "stdout",
          "text": [
            "There are 2 directories and 0 images under '10_food_classes_10_percent'.\n",
            "There are 10 directories and 0 images under '10_food_classes_10_percent/train'.\n",
            "There are 0 directories and 75 images under '10_food_classes_10_percent/train/ramen'.\n",
            "There are 0 directories and 75 images under '10_food_classes_10_percent/train/fried_rice'.\n",
            "There are 0 directories and 75 images under '10_food_classes_10_percent/train/pizza'.\n",
            "There are 0 directories and 75 images under '10_food_classes_10_percent/train/chicken_curry'.\n",
            "There are 0 directories and 75 images under '10_food_classes_10_percent/train/steak'.\n",
            "There are 0 directories and 75 images under '10_food_classes_10_percent/train/ice_cream'.\n",
            "There are 0 directories and 75 images under '10_food_classes_10_percent/train/chicken_wings'.\n",
            "There are 0 directories and 75 images under '10_food_classes_10_percent/train/hamburger'.\n",
            "There are 0 directories and 75 images under '10_food_classes_10_percent/train/sushi'.\n",
            "There are 0 directories and 75 images under '10_food_classes_10_percent/train/grilled_salmon'.\n",
            "There are 10 directories and 0 images under '10_food_classes_10_percent/test'.\n",
            "There are 0 directories and 250 images under '10_food_classes_10_percent/test/ramen'.\n",
            "There are 0 directories and 250 images under '10_food_classes_10_percent/test/fried_rice'.\n",
            "There are 0 directories and 250 images under '10_food_classes_10_percent/test/pizza'.\n",
            "There are 0 directories and 250 images under '10_food_classes_10_percent/test/chicken_curry'.\n",
            "There are 0 directories and 250 images under '10_food_classes_10_percent/test/steak'.\n",
            "There are 0 directories and 250 images under '10_food_classes_10_percent/test/ice_cream'.\n",
            "There are 0 directories and 250 images under '10_food_classes_10_percent/test/chicken_wings'.\n",
            "There are 0 directories and 250 images under '10_food_classes_10_percent/test/hamburger'.\n",
            "There are 0 directories and 250 images under '10_food_classes_10_percent/test/sushi'.\n",
            "There are 0 directories and 250 images under '10_food_classes_10_percent/test/grilled_salmon'.\n"
          ]
        }
      ]
    },
    {
      "cell_type": "markdown",
      "source": [
        "## Normalization and create data batches"
      ],
      "metadata": {
        "id": "_Rwm0xcRWW7r"
      }
    },
    {
      "cell_type": "code",
      "source": [
        "# Normalization and create data batches\n",
        "from tensorflow.keras.preprocessing.image import ImageDataGenerator\n",
        "train_datagen = ImageDataGenerator(rescale=1/255.)\n",
        "test_datagen = ImageDataGenerator(rescale=1/255.)\n",
        "\n",
        "train_dir = \"10_food_classes_10_percent/train\"\n",
        "test_dir = \"10_food_classes_10_percent/test\"\n",
        "batch_size = 32\n",
        "img_size = (224, 224)\n",
        "\n",
        "train_data = train_datagen.flow_from_directory(train_dir,\n",
        "                                               target_size=img_size,\n",
        "                                               batch_size=batch_size,\n",
        "                                               class_mode=\"categorical\")\n",
        "test_data = test_datagen.flow_from_directory(test_dir,\n",
        "                                             target_size=img_size,\n",
        "                                             batch_size=batch_size,\n",
        "                                             class_mode=\"categorical\")"
      ],
      "metadata": {
        "colab": {
          "base_uri": "https://localhost:8080/"
        },
        "id": "lg7G5qAkVRWM",
        "outputId": "8345864e-9439-484e-8293-dfc0f1a7e480"
      },
      "execution_count": null,
      "outputs": [
        {
          "output_type": "stream",
          "name": "stdout",
          "text": [
            "Found 750 images belonging to 10 classes.\n",
            "Found 2500 images belonging to 10 classes.\n"
          ]
        }
      ]
    },
    {
      "cell_type": "markdown",
      "source": [
        "## Set up TensorBoard callbacks"
      ],
      "metadata": {
        "id": "Hw9E5BB1WTx2"
      }
    },
    {
      "cell_type": "markdown",
      "source": [
        "[Callbacks](https://www.tensorflow.org/api_docs/python/tf/keras/callbacks) are extra functionality you can add to your models to be performed during or after training. Some of the most popular callbacks include:\n",
        "\n",
        "- Experiment tracking with TensorBoard - **log the performance** of multiple models and then view and compare these models in a visual way on TensorBoard. Helpful to compare the results of different models on your data.\n",
        "- Model checkpointing - save your model as it trains so you can stop training if needed and come back to continue off where you left. Helpful if training takes a long time and can't be done in one sitting.\n",
        "- Early stopping - leave your model training for an arbitrary amount of time and have it stop training automatically when it ceases to improve. Helpful when you've got a large dataset and don't know how long training will take.\n",
        "\n",
        "\n"
      ],
      "metadata": {
        "id": "RruuzIfoXO6A"
      }
    },
    {
      "cell_type": "markdown",
      "source": [
        "### Create a TensorBoard callback"
      ],
      "metadata": {
        "id": "0LtKVP6MYdGQ"
      }
    },
    {
      "cell_type": "markdown",
      "source": [
        "We want to save a model's performance logs to a directory named [dir_name]/[experiment_name]/[current_timestamp], where:\n",
        "\n",
        "- dir_name is the overall logs directory\n",
        "- experiment_name is the particular experiment\n",
        "- current_timestamp is the time the experiment started based on Python's datetime.datetime().now()"
      ],
      "metadata": {
        "id": "NR4DvxfHYhW4"
      }
    },
    {
      "cell_type": "code",
      "source": [
        "def create_tensorboard_callback(dir_name, experiment_name):\n",
        "  log_dir = dir_name + \"/\" + experiment_name + \"/\" + datetime.dateime().now().strftime(\"%Y%m%d-%H%M%S\")\n",
        "  tensorboard_callback = tf.keras.callbacks.TensorBoard(log_dir=log_dir)\n",
        "  return tensorboard_callback"
      ],
      "metadata": {
        "id": "7Oxxql5KX-9j"
      },
      "execution_count": 11,
      "outputs": []
    },
    {
      "cell_type": "markdown",
      "source": [
        "## Creating models using TensorFlow Hub"
      ],
      "metadata": {
        "id": "FuFFqKmrZRMi"
      }
    },
    {
      "cell_type": "code",
      "source": [],
      "metadata": {
        "id": "95J0bPUxZeev"
      },
      "execution_count": null,
      "outputs": []
    }
  ]
}